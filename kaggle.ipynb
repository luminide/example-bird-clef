{
 "cells": [
  {
   "cell_type": "markdown",
   "metadata": {},
   "source": [
    "### This should be run on the Kaggle platform to submit an entry"
   ]
  },
  {
   "cell_type": "code",
   "execution_count": null,
   "metadata": {},
   "outputs": [],
   "source": [
    "import os\n",
    "import sys\n",
    "import requests\n",
    "from glob import glob\n",
    "\n",
    "if not os.path.exists('../input/wheels1'):\n",
    "    notebook_url = 'https://www.kaggle.com/luminide/wheels1'\n",
    "    print(f'Run this on Kaggle after adding the notebook output of {notebook_url} as Data')\n",
    "    sys.exit()\n",
    "\n",
    "if not os.path.exists('../input/kagglecode'):\n",
    "    dataset_url = 'https://www.kaggle.com/<kaggle_username>/kagglecode'\n",
    "    print(f'Your dataset at {dataset_url} should be added as Data')\n",
    "    sys.exit()\n",
    "\n",
    "def internet_enabled():\n",
    "    try:\n",
    "        requests.get('https://kaggle.com', timeout=1)\n",
    "        return True\n",
    "    except:\n",
    "        return False\n",
    "\n",
    "# network access is not allowed in code competitions\n",
    "if internet_enabled():\n",
    "    print('Turn off Internet connection on this Kaggle notebook and retry')\n",
    "    sys.exit()\n",
    "    \n",
    "# this is to install packages on kaggle without using an internet connection\n",
    "!pip install -q --no-index --find-links ../input/wheels1 ../input/wheels1/timm-0.5.4-py3-none-any.whl\n",
    "\n",
    "sys.path.append('../input/kagglecode')\n",
    "from inference import run\n",
    "\n",
    "train_csv_paths = glob('../input/*/train_metadata.csv')\n",
    "if len(train_csv_paths) == 0:\n",
    "    print('Could not find dataset with train_metadata.csv')\n",
    "    sys.exit()\n",
    "    \n",
    "input_dir = os.path.dirname(train_csv_paths[0])\n",
    "\n",
    "print('Running inference...')\n",
    "run(input_dir, '../input/kagglecode', threshold=0.05)"
   ]
  },
  {
   "cell_type": "code",
   "execution_count": null,
   "metadata": {},
   "outputs": [],
   "source": []
  }
 ],
 "metadata": {
  "kernelspec": {
   "display_name": "Python 3 (ipykernel)",
   "language": "python",
   "name": "python3"
  },
  "language_info": {
   "codemirror_mode": {
    "name": "ipython",
    "version": 3
   },
   "file_extension": ".py",
   "mimetype": "text/x-python",
   "name": "python",
   "nbconvert_exporter": "python",
   "pygments_lexer": "ipython3",
   "version": "3.8.10"
  }
 },
 "nbformat": 4,
 "nbformat_minor": 4
}
