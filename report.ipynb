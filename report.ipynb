{
 "cells": [
  {
   "cell_type": "markdown",
   "metadata": {},
   "source": [
    "## Training progress"
   ]
  },
  {
   "cell_type": "code",
   "execution_count": null,
   "metadata": {},
   "outputs": [],
   "source": [
    "import sys\n",
    "import os\n",
    "import pandas as pd\n",
    "\n",
    "working_dir = '../output'\n",
    "history_file = f'{working_dir}/history.csv'\n",
    "if not os.path.exists(history_file):\n",
    "    print(f'{history_file} not found')\n",
    "    print('must train a model before running this')\n",
    "    sys.exit()\n",
    "    \n",
    "df = pd.read_csv(history_file)\n",
    "\n",
    "train_loss = []\n",
    "val_loss = []\n",
    "for _, group in df.groupby('epoch'):\n",
    "    train_loss.append(group['train_loss'].mean())\n",
    "    val_loss.append(group['epoch_val_loss'].mean())\n",
    "\n",
    "loss_df = pd.DataFrame({'Training loss': train_loss, 'Validation loss': val_loss})\n",
    "min_val_loss = df['epoch_val_loss'].min()\n",
    "plots = loss_df.plot(xlabel='Epoch', grid=True, title=f'Minimum validation loss {min_val_loss:.4f}')"
   ]
  },
  {
   "cell_type": "markdown",
   "metadata": {},
   "source": [
    "## Class activation maps on sample validation images"
   ]
  },
  {
   "cell_type": "code",
   "execution_count": null,
   "metadata": {},
   "outputs": [],
   "source": [
    "import torch\n",
    "from torch import nn\n",
    "\n",
    "from util import get_class_names\n",
    "from train import Trainer\n",
    "from config import Config\n",
    "\n",
    "device = torch.device('cuda' if torch.cuda.is_available() else 'cpu')\n",
    "input_dir = '../input'\n",
    "model_file = f'{working_dir}/model.pth'\n",
    "if not os.path.exists(model_file):\n",
    "    print(f'{model_file} not found')\n",
    "    sys.exit()\n",
    "checkpoint = torch.load(model_file, map_location=device)\n",
    "conf = Config(checkpoint['conf'])\n",
    "\n",
    "trainer = Trainer(conf, input_dir, device, 1, checkpoint)\n",
    "loader = trainer.val_loader\n",
    "model = trainer.model\n",
    "\n",
    "df = pd.read_csv(f'{input_dir}/train_metadata.csv', dtype=str)\n",
    "class_names = get_class_names(df)"
   ]
  },
  {
   "cell_type": "code",
   "execution_count": null,
   "metadata": {},
   "outputs": [],
   "source": [
    "import numpy as np\n",
    "from pytorch_grad_cam import GradCAMPlusPlus\n",
    "from pytorch_grad_cam.utils.image import show_cam_on_image\n",
    "from matplotlib import pyplot as plt\n",
    "\n",
    "from util import search_layer\n",
    "\n",
    "# search for the last convolution layer\n",
    "target_layer = search_layer(model, torch.nn.Conv2d)\n",
    "if not target_layer:\n",
    "    print('Could not find conv layer')\n",
    "    sys.exit()\n",
    "print(f'Target layer for CAM: {target_layer}\\n')\n",
    "\n",
    "sigmoid = nn.Sigmoid()\n",
    "images, labels = iter(loader).next()\n",
    "model.eval()\n",
    "with torch.no_grad():\n",
    "    images = images.to(device)\n",
    "    outputs = model(images)\n",
    "    preds = sigmoid(outputs).round().cpu().numpy()\n",
    "    num_rows = preds.shape[0]\n",
    "    max_inds = outputs.argmax(axis=1).cpu().numpy()\n",
    "    # this is to make sure that at least one class is predicted\n",
    "    preds[range(num_rows), max_inds] = 1\n",
    "\n",
    "cam = GradCAMPlusPlus(model, [target_layer], use_cuda=False)\n",
    "cam_output = cam(input_tensor=images, targets=None)\n",
    "\n",
    "# display class activation maps for this many images\n",
    "count = min(8, len(images))\n",
    "    \n",
    "for idx in range(count):\n",
    "    true_class_names = class_names[np.where(labels[idx])]\n",
    "    pred_class_names = class_names[np.where(preds[idx])]\n",
    "\n",
    "    fig = plt.figure(figsize=(10, 10))\n",
    "    ax = fig.subplots(1, 2)\n",
    "    rgb_image = images[idx].cpu().numpy()\n",
    "    # convert CHW to HWC\n",
    "    rgb_image = rgb_image.transpose((1, 2, 0))\n",
    "    rgb_image -= rgb_image.min()\n",
    "    rgb_image /= rgb_image.max()\n",
    "\n",
    "    im = show_cam_on_image(rgb_image, cam_output[idx], use_rgb=True)\n",
    "    ax[0].set_title(f'Ground truth: {true_class_names}')\n",
    "    ax[0].imshow(rgb_image)\n",
    "    \n",
    "    ax[1].set_title(f'Prediction: {pred_class_names}')\n",
    "    ax[1].imshow(im)\n",
    "plt.show()"
   ]
  }
 ],
 "metadata": {
  "kernelspec": {
   "display_name": "Python 3 (ipykernel)",
   "language": "python",
   "name": "python3"
  },
  "language_info": {
   "codemirror_mode": {
    "name": "ipython",
    "version": 3
   },
   "file_extension": ".py",
   "mimetype": "text/x-python",
   "name": "python",
   "nbconvert_exporter": "python",
   "pygments_lexer": "ipython3",
   "version": "3.8.10"
  }
 },
 "nbformat": 4,
 "nbformat_minor": 4
}
